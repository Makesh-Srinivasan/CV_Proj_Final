{
 "cells": [
  {
   "cell_type": "code",
   "execution_count": 1,
   "metadata": {},
   "outputs": [
    {
     "name": "stderr",
     "output_type": "stream",
     "text": [
      "/Users/makeshsrinivasan/miniforge3/envs/ASU/lib/python3.9/site-packages/scipy/__init__.py:146: UserWarning: A NumPy version >=1.17.3 and <1.25.0 is required for this version of SciPy (detected version 1.26.4\n",
      "  warnings.warn(f\"A NumPy version >={np_minversion} and <{np_maxversion}\"\n"
     ]
    }
   ],
   "source": [
    "import cv2\n",
    "import numpy as np\n",
    "import matplotlib.pyplot as plt\n",
    "import ipyvolume as ipv"
   ]
  },
  {
   "cell_type": "code",
   "execution_count": 2,
   "metadata": {},
   "outputs": [],
   "source": [
    "def decompose_essential_matrix(E,K,pts1,pts2):\n",
    "    [U, D, V] = np.linalg.svd(E)\n",
    "    diag_arr = np.array([[1, 0, 0], [0, 1, 0], [0, 0, 0]])\n",
    "    new_E = U @ diag_arr @ V\n",
    "    [U, D, V] = np.linalg.svd(new_E)\n",
    "    Y = np.array([[0, -1, 0], [1, 0, 0], [0, 0, 1]])\n",
    "    R1 = - U @ Y @ V\n",
    "    R2 = - U @ Y.T @ V\n",
    "    t = U[:, 2].reshape(3, 1)\n",
    "    R_mat = np.array([R1, R1, R2, R2])\n",
    "    T_mat = np.array([t, -t, t, -t])\n",
    "    P1 = np.zeros((3, 4))\n",
    "    P1[:, :3] = np.eye(3)\n",
    "    P1 = K @ P1\n",
    "    print(R1, \"\\n\", R2)\n",
    "    for i in range(4):\n",
    "        P2 = np.concatenate((R_mat[i], T_mat[i]), axis=1)\n",
    "        P2 = K @ P2\n",
    "        world_pts = cv2.triangulatePoints(P1, P2, pts1, pts2)\n",
    "        X, Y, Z = world_pts[:3, :] / world_pts[3, :]\n",
    "        Z_ = R_mat[i][2, 0] * X + R_mat[i][2, 1] * Y + R_mat[i][2, 2] * Z + T_mat[i][2]\n",
    "        print(len(np.where(Z < 0)[0]), len(np.where(Z_ < 0)[0]))\n",
    "        if len(np.where(Z < 0)[0]) == 0:\n",
    "            R = R_mat[i]\n",
    "            t = T_mat[i]\n",
    "            break\n",
    "    return R,t\n",
    "\n",
    "def drawlines(img1,img2,lines,pts1,pts2):\n",
    "    r,c,ch = img1.shape\n",
    "    for r,pt1,pt2 in zip(lines,pts1,pts2):\n",
    "        color = tuple(np.random.randint(0,255,3).tolist())\n",
    "        x0,y0 = map(int, [0, -r[2]/r[1] ])\n",
    "        x1,y1 = map(int, [c, -(r[2]+r[0]*c)/r[1] ])\n",
    "        img1 = cv2.line(img1, (x0,y0), (x1,y1), color,1)\n",
    "        img1 = cv2.circle(img1,tuple(pt1[0]),5,color,-1)\n",
    "        img2 = cv2.circle(img2,tuple(pt2[0]),5,color,-1)\n",
    "    return img1,img2\n",
    "\n",
    "# Defining the Parameter for stereoSGBM\n",
    "min_disparity =  -1\n",
    "max_disparity = 159\n",
    "num_disparity = max_disparity - min_disparity\n",
    "SADWindowSize = 5\n",
    "uniqueness = 5\n",
    "speckle_windows_size = 5\n",
    "speckle_range = 5\n",
    "P1 = 8*3*SADWindowSize**2\n",
    "P2 = 32*3*SADWindowSize**2\n",
    "\n",
    "\n",
    "KL = np.array([[3997.684,0, 1176.728],\n",
    "              [ 0,3997.684,1011.728],\n",
    "              [ 0,0,1]])\n",
    "\n",
    "KR = np.array([[3997.684,0,1307.839],\n",
    "              [ 0,3997.684,1011.728],\n",
    "              [ 0,0,1]])\n",
    "dist_coeff = None\n",
    "b = 193.001 # Baseline"
   ]
  },
  {
   "cell_type": "code",
   "execution_count": 3,
   "metadata": {},
   "outputs": [
    {
     "name": "stderr",
     "output_type": "stream",
     "text": [
      "[ WARN:0@4.141] global shadow_sift.hpp:15 SIFT_create DEPRECATED: cv.xfeatures2d.SIFT_create() is deprecated due SIFT tranfer to the main repository. https://github.com/opencv/opencv/issues/16736\n"
     ]
    },
    {
     "name": "stdout",
     "output_type": "stream",
     "text": [
      "R = [[ 9.99999245e-01 -1.24306026e-04  1.22258780e-03]\n",
      " [ 1.24419106e-04  9.99999988e-01 -9.24161729e-05]\n",
      " [-1.22257630e-03  9.25682164e-05  9.99999248e-01]] \n",
      " t = [[-0.99999323]\n",
      " [ 0.00135812]\n",
      " [ 0.00342011]]\n",
      "shape =  (2000, 2964, 2) (2000, 2964)\n"
     ]
    },
    {
     "name": "stderr",
     "output_type": "stream",
     "text": [
      "/var/folders/3d/s2mwktqj21z7f7gn3zblzf7r0000gn/T/ipykernel_8791/4200887650.py:74: RuntimeWarning: divide by zero encountered in divide\n",
      "  depth_map = KL[0,0]*b / (filtered_disparity)\n",
      "/var/folders/3d/s2mwktqj21z7f7gn3zblzf7r0000gn/T/ipykernel_8791/4200887650.py:75: RuntimeWarning: invalid value encountered in cast\n",
      "  depth_map = depth_map.astype('uint16')\n"
     ]
    }
   ],
   "source": [
    "imgL = cv2.imread('dataset/MotorcycleL.png')\n",
    "imgR = cv2.imread('dataset/MotorcycleR.png')\n",
    "\n",
    "grayL = cv2.cvtColor(imgL, cv2.COLOR_BGR2GRAY)\n",
    "grayR = cv2.cvtColor(imgR, cv2.COLOR_BGR2GRAY)\n",
    "image_size = grayL.shape\n",
    "\n",
    "sift = cv2.xfeatures2d.SIFT_create()\n",
    "kp1, desc1 = sift.detectAndCompute(grayL, None)\n",
    "kp2, desc2 = sift.detectAndCompute(grayR, None)\n",
    "bf = cv2.BFMatcher(crossCheck=False)\n",
    "matches = bf.knnMatch(desc1, desc2, k=2)\n",
    "good = []\n",
    "for m, n in matches:\n",
    "    if m.distance < 0.7 * n.distance:\n",
    "        good.append(m)\n",
    "good = sorted(good, key=lambda x: x.distance)\n",
    "pts1 = np.float32([kp1[m.queryIdx].pt for m in good]).reshape(-1, 1, 2)\n",
    "pts2 = np.float32([kp2[m.trainIdx].pt for m in good]).reshape(-1, 1, 2)\n",
    "\n",
    "E, mask = cv2.findEssentialMat(pts1, pts2, KL, method=cv2.FM_RANSAC, prob=0.99, threshold=0.4, mask=None)\n",
    "pts1 = pts1[mask.ravel() == 1]\n",
    "pts2 = pts2[mask.ravel() == 1]\n",
    "\n",
    "#R,t = decompose_essential_matrix(E,KL,pts1,pts2)\n",
    "points,R,t,mask = cv2.recoverPose(E,pts1,pts2,R = None,t = None,mask = None)\n",
    "K_inv = np.linalg.inv(KL)\n",
    "F = K_inv.T @ E @ K_inv\n",
    "print(\"R = {} \\n t = {}\".format(R,t))\n",
    "lines1 = cv2.computeCorrespondEpilines(pts2.reshape(-1,1,2), 2,F)\n",
    "lines1 = lines1.reshape(-1,3)\n",
    "lines2 = cv2.computeCorrespondEpilines(pts1.reshape(-1,1,2), 1,F)\n",
    "lines2 = lines2.reshape(-1,3)\n",
    "\n",
    "R1,R2,P1,P2= cv2.stereoRectify(KL,None,KL,None,(image_size[1],image_size[0]),R,t,flags = cv2.CALIB_ZERO_DISPARITY)[:4]\n",
    "#print(R1 @ R2.T) # these gives the rotation between the two camera\n",
    "mapx1,mapy1 = cv2.initUndistortRectifyMap(KL,None,R1,P1,(image_size[1],image_size[0]),cv2.CV_16SC2)\n",
    "mapx2,mapy2 = cv2.initUndistortRectifyMap(KL,None,R2,P2,(image_size[1],image_size[0]),cv2.CV_16SC2)\n",
    "print(\"shape = \",mapx1.shape,mapy1.shape)\n",
    "\n",
    "rectified_imgL = cv2.remap(imgL,mapx1,mapy1,interpolation=cv2.INTER_CUBIC,borderMode=cv2.BORDER_CONSTANT)\n",
    "rectified_imgR = cv2.remap(imgR,mapx2,mapy2,interpolation=cv2.INTER_CUBIC,borderMode=cv2.BORDER_CONSTANT)\n",
    "\n",
    "lines1 = cv2.computeCorrespondEpilines(pts2.reshape(-1,1,2), 2,F)\n",
    "lines1 = lines1.reshape(-1,3)\n",
    "lines2 = cv2.computeCorrespondEpilines(pts1.reshape(-1,1,2), 1,F)\n",
    "lines2 = lines2.reshape(-1,3)\n",
    "\n",
    "rectified_imgL = cv2.pyrDown(rectified_imgL)\n",
    "rectified_imgR = cv2.pyrDown(rectified_imgR)\n",
    "\n",
    "left_matcher = cv2.StereoSGBM_create(minDisparity=min_disparity,numDisparities=num_disparity,blockSize=SADWindowSize\n",
    "                               ,P1= 8*3*SADWindowSize**2,P2=32*3*SADWindowSize**2,uniquenessRatio=uniqueness,disp12MaxDiff=2,\n",
    "                                speckleWindowSize=speckle_windows_size,speckleRange=speckle_range)\n",
    "\n",
    "left_disparity = left_matcher.compute(rectified_imgL,rectified_imgR)\n",
    "right_matcher = cv2.ximgproc.createRightMatcher(left_matcher)\n",
    "right_disparity = right_matcher.compute(rectified_imgR,rectified_imgL)\n",
    "\n",
    "# wls filtering\n",
    "sigma = 1.5\n",
    "lambda_ = 8000\n",
    "wls = cv2.ximgproc.createDisparityWLSFilter(left_matcher)\n",
    "wls.setLambda(lambda_)\n",
    "wls.setSigmaColor(sigma)\n",
    "filtered_disparity = wls.filter(left_disparity,rectified_imgL,disparity_map_right = right_disparity)\n",
    "cv2.filterSpeckles(filtered_disparity,0,400,max_disparity-5)\n",
    "_,filtered_disparity = cv2.threshold(filtered_disparity,0,max_disparity*16,cv2.THRESH_TOZERO)\n",
    "filtered_disparity = (filtered_disparity/16).astype(np.uint8)\n",
    "\n",
    "cv2.imshow('filter',filtered_disparity)\n",
    "cv2.imwrite(\"wls_disparity.png\",filtered_disparity)\n",
    "\n",
    "depth_map = KL[0,0]*b / (filtered_disparity)\n",
    "depth_map = depth_map.astype('uint16')\n",
    "cv2.imshow('depth map',depth_map)\n",
    "\n",
    "# Reprojection matrix\n",
    "Q = np.float32([[1,0,0,-KL[0,2]],\n",
    "                [0,1,0,-KL[1,2]],\n",
    "                [0,0,0,KL[0,0]],\n",
    "                [0,0,-1/b,(KL[0,2]-KR[0,2])/b]])"
   ]
  },
  {
   "cell_type": "code",
   "execution_count": 4,
   "metadata": {},
   "outputs": [],
   "source": [
    "# Reprojection to 3D\n",
    "points = cv2.reprojectImageTo3D(filtered_disparity, Q)\n",
    "points = points.reshape(-1, 3)\n",
    "color = rectified_imgL.reshape(-1, 3)\n",
    "color = np.flip(color, axis=1) / 255  # Normalize and flip the color for visualization\n",
    "\n",
    "# # Use ipyvolume to create an interactive 3D scatter plot\n",
    "# ipv.figure()\n",
    "# ipv.scatter(points[:, 0], points[:, 1], points[:, 2], color=color, size=1, marker='sphere')\n",
    "# ipv.show()"
   ]
  },
  {
   "cell_type": "code",
   "execution_count": 5,
   "metadata": {},
   "outputs": [
    {
     "data": {
      "application/vnd.jupyter.widget-view+json": {
       "model_id": "4bf80745898147c18ea47c6831cb1af4",
       "version_major": 2,
       "version_minor": 0
      },
      "text/plain": [
       "Container(figure=Figure(box_center=[0.5, 0.5, 0.5], box_size=[1.0, 1.0, 1.0], camera=PerspectiveCamera(fov=45.…"
      ]
     },
     "metadata": {},
     "output_type": "display_data"
    }
   ],
   "source": [
    "ipv.figure()\n",
    "ipv.scatter(points[:, 0], points[:, 1], points[:, 2], color=color, size=1, marker='sphere')\n",
    "ipv.show()"
   ]
  },
  {
   "cell_type": "code",
   "execution_count": 6,
   "metadata": {},
   "outputs": [],
   "source": [
    "ipv.save(\"3d_point_cloud.ply\")"
   ]
  },
  {
   "cell_type": "code",
   "execution_count": null,
   "metadata": {},
   "outputs": [],
   "source": []
  }
 ],
 "metadata": {
  "kernelspec": {
   "display_name": "Defect_detection",
   "language": "python",
   "name": "python3"
  },
  "language_info": {
   "codemirror_mode": {
    "name": "ipython",
    "version": 3
   },
   "file_extension": ".py",
   "mimetype": "text/x-python",
   "name": "python",
   "nbconvert_exporter": "python",
   "pygments_lexer": "ipython3",
   "version": "3.9.13"
  }
 },
 "nbformat": 4,
 "nbformat_minor": 2
}
