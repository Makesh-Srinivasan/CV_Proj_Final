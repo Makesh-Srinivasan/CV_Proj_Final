{
 "cells": [
  {
   "cell_type": "code",
   "execution_count": 1,
   "metadata": {},
   "outputs": [
    {
     "name": "stderr",
     "output_type": "stream",
     "text": [
      "/Users/makeshsrinivasan/miniforge3/envs/ASU/lib/python3.9/site-packages/scipy/__init__.py:146: UserWarning: A NumPy version >=1.17.3 and <1.25.0 is required for this version of SciPy (detected version 1.26.4\n",
      "  warnings.warn(f\"A NumPy version >={np_minversion} and <{np_maxversion}\"\n"
     ]
    }
   ],
   "source": [
    "import cv2\n",
    "import numpy as np\n",
    "import matplotlib.pyplot as plt\n",
    "import ipyvolume as ipv"
   ]
  },
  {
   "cell_type": "code",
   "execution_count": 12,
   "metadata": {},
   "outputs": [],
   "source": [
    "def decompose_essential_matrix(E,K,pts1,pts2):\n",
    "    [U, D, V] = np.linalg.svd(E)\n",
    "    diag_arr = np.array([[1, 0, 0], [0, 1, 0], [0, 0, 0]])\n",
    "    new_E = U @ diag_arr @ V\n",
    "    [U, D, V] = np.linalg.svd(new_E)\n",
    "    Y = np.array([[0, -1, 0], [1, 0, 0], [0, 0, 1]])\n",
    "    R1 = - U @ Y @ V\n",
    "    R2 = - U @ Y.T @ V\n",
    "    t = U[:, 2].reshape(3, 1)\n",
    "    R_mat = np.array([R1, R1, R2, R2])\n",
    "    T_mat = np.array([t, -t, t, -t])\n",
    "    P1 = np.zeros((3, 4))\n",
    "    P1[:, :3] = np.eye(3)\n",
    "    P1 = K @ P1\n",
    "    print(R1, \"\\n\", R2)\n",
    "    for i in range(4):\n",
    "        P2 = np.concatenate((R_mat[i], T_mat[i]), axis=1)\n",
    "        P2 = K @ P2\n",
    "        world_pts = cv2.triangulatePoints(P1, P2, pts1, pts2)\n",
    "        X, Y, Z = world_pts[:3, :] / world_pts[3, :]\n",
    "        Z_ = R_mat[i][2, 0] * X + R_mat[i][2, 1] * Y + R_mat[i][2, 2] * Z + T_mat[i][2]\n",
    "        print(len(np.where(Z < 0)[0]), len(np.where(Z_ < 0)[0]))\n",
    "        if len(np.where(Z < 0)[0]) == 0:\n",
    "            R = R_mat[i]\n",
    "            t = T_mat[i]\n",
    "            break\n",
    "    return R,t\n",
    "\n",
    "def drawlines(img1,img2,lines,pts1,pts2):\n",
    "    r,c,ch = img1.shape\n",
    "    for r,pt1,pt2 in zip(lines,pts1,pts2):\n",
    "        color = tuple(np.random.randint(0,255,3).tolist())\n",
    "        x0,y0 = map(int, [0, -r[2]/r[1] ])\n",
    "        x1,y1 = map(int, [c, -(r[2]+r[0]*c)/r[1] ])\n",
    "        img1 = cv2.line(img1, (x0,y0), (x1,y1), color,1)\n",
    "        img1 = cv2.circle(img1,tuple(pt1[0]),5,color,-1)\n",
    "        img2 = cv2.circle(img2,tuple(pt2[0]),5,color,-1)\n",
    "    return img1,img2\n",
    "\n",
    "# Defining the Parameter for stereoSGBM\n",
    "min_disparity =  -1\n",
    "max_disparity = 159\n",
    "num_disparity = max_disparity - min_disparity\n",
    "SADWindowSize = 5\n",
    "uniqueness = 5\n",
    "speckle_windows_size = 5\n",
    "speckle_range = 5\n",
    "P1 = 8*3*SADWindowSize**2\n",
    "P2 = 32*3*SADWindowSize**2\n",
    "\n",
    "\n",
    "imgL = cv2.imread('dataset/image_2.jpeg')\n",
    "imgR = cv2.imread('dataset/image_1.jpeg')\n",
    "\n",
    "image_size = imgL.shape[:2]\n",
    "\n",
    "focal_length_px = image_size[1]\n",
    "cx = image_size[1] / 2\n",
    "cy = image_size[0] / 2\n",
    "\n",
    "KL = KR = np.array([[focal_length_px, 0, cx],\n",
    "                    [0, focal_length_px, cy],\n",
    "                    [0, 0, 1]])\n",
    "dist_coeff = None\n",
    "b = 0.15909 # Baseline"
   ]
  },
  {
   "cell_type": "code",
   "execution_count": 13,
   "metadata": {},
   "outputs": [
    {
     "name": "stdout",
     "output_type": "stream",
     "text": [
      "R = [[-0.03950192  0.94944324 -0.31144364]\n",
      " [-0.98069531  0.02289968  0.19419659]\n",
      " [ 0.1915106   0.31310245  0.93020995]] \n",
      " t = [[ 0.01254373]\n",
      " [-0.12777021]\n",
      " [-0.99172447]]\n",
      "shape =  (1536, 2048, 2) (1536, 2048)\n"
     ]
    },
    {
     "name": "stderr",
     "output_type": "stream",
     "text": [
      "/var/folders/3d/s2mwktqj21z7f7gn3zblzf7r0000gn/T/ipykernel_10077/2608813307.py:70: RuntimeWarning: divide by zero encountered in divide\n",
      "  depth_map = KL[0,0]*b / (filtered_disparity)\n",
      "/var/folders/3d/s2mwktqj21z7f7gn3zblzf7r0000gn/T/ipykernel_10077/2608813307.py:71: RuntimeWarning: invalid value encountered in cast\n",
      "  depth_map = depth_map.astype('uint16')\n"
     ]
    }
   ],
   "source": [
    "grayL = cv2.cvtColor(imgL, cv2.COLOR_BGR2GRAY)\n",
    "grayR = cv2.cvtColor(imgR, cv2.COLOR_BGR2GRAY)\n",
    "\n",
    "sift = cv2.xfeatures2d.SIFT_create()\n",
    "kp1, desc1 = sift.detectAndCompute(grayL, None)\n",
    "kp2, desc2 = sift.detectAndCompute(grayR, None)\n",
    "bf = cv2.BFMatcher(crossCheck=False)\n",
    "matches = bf.knnMatch(desc1, desc2, k=2)\n",
    "good = []\n",
    "for m, n in matches:\n",
    "    if m.distance < 0.7 * n.distance:\n",
    "        good.append(m)\n",
    "good = sorted(good, key=lambda x: x.distance)\n",
    "pts1 = np.float32([kp1[m.queryIdx].pt for m in good]).reshape(-1, 1, 2)\n",
    "pts2 = np.float32([kp2[m.trainIdx].pt for m in good]).reshape(-1, 1, 2)\n",
    "\n",
    "E, mask = cv2.findEssentialMat(pts1, pts2, KL, method=cv2.FM_RANSAC, prob=0.99, threshold=0.4, mask=None)\n",
    "pts1 = pts1[mask.ravel() == 1]\n",
    "pts2 = pts2[mask.ravel() == 1]\n",
    "\n",
    "#R,t = decompose_essential_matrix(E,KL,pts1,pts2)\n",
    "points,R,t,mask = cv2.recoverPose(E,pts1,pts2,R = None,t = None,mask = None)\n",
    "K_inv = np.linalg.inv(KL)\n",
    "F = K_inv.T @ E @ K_inv\n",
    "print(\"R = {} \\n t = {}\".format(R,t))\n",
    "lines1 = cv2.computeCorrespondEpilines(pts2.reshape(-1,1,2), 2,F)\n",
    "lines1 = lines1.reshape(-1,3)\n",
    "lines2 = cv2.computeCorrespondEpilines(pts1.reshape(-1,1,2), 1,F)\n",
    "lines2 = lines2.reshape(-1,3)\n",
    "\n",
    "R1,R2,P1,P2= cv2.stereoRectify(KL,None,KL,None,(image_size[1],image_size[0]),R,t,flags = cv2.CALIB_ZERO_DISPARITY)[:4]\n",
    "#print(R1 @ R2.T) # these gives the rotation between the two camera\n",
    "mapx1,mapy1 = cv2.initUndistortRectifyMap(KL,None,R1,P1,(image_size[1],image_size[0]),cv2.CV_16SC2)\n",
    "mapx2,mapy2 = cv2.initUndistortRectifyMap(KL,None,R2,P2,(image_size[1],image_size[0]),cv2.CV_16SC2)\n",
    "print(\"shape = \",mapx1.shape,mapy1.shape)\n",
    "\n",
    "rectified_imgL = cv2.remap(imgL,mapx1,mapy1,interpolation=cv2.INTER_CUBIC,borderMode=cv2.BORDER_CONSTANT)\n",
    "rectified_imgR = cv2.remap(imgR,mapx2,mapy2,interpolation=cv2.INTER_CUBIC,borderMode=cv2.BORDER_CONSTANT)\n",
    "\n",
    "lines1 = cv2.computeCorrespondEpilines(pts2.reshape(-1,1,2), 2,F)\n",
    "lines1 = lines1.reshape(-1,3)\n",
    "lines2 = cv2.computeCorrespondEpilines(pts1.reshape(-1,1,2), 1,F)\n",
    "lines2 = lines2.reshape(-1,3)\n",
    "\n",
    "rectified_imgL = cv2.pyrDown(rectified_imgL)\n",
    "rectified_imgR = cv2.pyrDown(rectified_imgR)\n",
    "\n",
    "left_matcher = cv2.StereoSGBM_create(minDisparity=min_disparity,numDisparities=num_disparity,blockSize=SADWindowSize\n",
    "                               ,P1= 8*3*SADWindowSize**2,P2=32*3*SADWindowSize**2,uniquenessRatio=uniqueness,disp12MaxDiff=2,\n",
    "                                speckleWindowSize=speckle_windows_size,speckleRange=speckle_range)\n",
    "\n",
    "left_disparity = left_matcher.compute(rectified_imgL,rectified_imgR)\n",
    "right_matcher = cv2.ximgproc.createRightMatcher(left_matcher)\n",
    "right_disparity = right_matcher.compute(rectified_imgR,rectified_imgL)\n",
    "\n",
    "# wls filtering\n",
    "sigma = 1.5\n",
    "lambda_ = 8000\n",
    "wls = cv2.ximgproc.createDisparityWLSFilter(left_matcher)\n",
    "wls.setLambda(lambda_)\n",
    "wls.setSigmaColor(sigma)\n",
    "filtered_disparity = wls.filter(left_disparity,rectified_imgL,disparity_map_right = right_disparity)\n",
    "cv2.filterSpeckles(filtered_disparity,0,400,max_disparity-5)\n",
    "_,filtered_disparity = cv2.threshold(filtered_disparity,0,max_disparity*16,cv2.THRESH_TOZERO)\n",
    "filtered_disparity = (filtered_disparity/16).astype(np.uint8)\n",
    "\n",
    "cv2.imshow('filter',filtered_disparity)\n",
    "cv2.imwrite(\"wls_disparity.png\",filtered_disparity)\n",
    "\n",
    "depth_map = KL[0,0]*b / (filtered_disparity)\n",
    "depth_map = depth_map.astype('uint16')\n",
    "cv2.imshow('depth map',depth_map)\n",
    "\n",
    "# Reprojection matrix\n",
    "Q = np.float32([[1, 0, 0, -cx],\n",
    "                [0, 1, 0, -cy],\n",
    "                [0, 0, 0, focal_length_px],\n",
    "                [0, 0, -1/b, 0]])\n",
    "\n",
    "points = cv2.reprojectImageTo3D(filtered_disparity, Q)"
   ]
  },
  {
   "cell_type": "code",
   "execution_count": 14,
   "metadata": {},
   "outputs": [],
   "source": [
    "# Reprojection to 3D\n",
    "points = cv2.reprojectImageTo3D(filtered_disparity, Q)\n",
    "points = points.reshape(-1, 3)\n",
    "color = rectified_imgL.reshape(-1, 3)\n",
    "color = np.flip(color, axis=1) / 255  # Normalize and flip the color for visualization"
   ]
  },
  {
   "cell_type": "code",
   "execution_count": 9,
   "metadata": {},
   "outputs": [
    {
     "ename": "ValueError",
     "evalue": "zero-size array to reduction operation minimum which has no identity",
     "output_type": "error",
     "traceback": [
      "\u001b[0;31m---------------------------------------------------------------------------\u001b[0m",
      "\u001b[0;31mValueError\u001b[0m                                Traceback (most recent call last)",
      "Input \u001b[0;32mIn [9]\u001b[0m, in \u001b[0;36m<cell line: 3>\u001b[0;34m()\u001b[0m\n\u001b[1;32m      1\u001b[0m \u001b[38;5;66;03m# # Use ipyvolume to create an interactive 3D scatter plot\u001b[39;00m\n\u001b[1;32m      2\u001b[0m ipv\u001b[38;5;241m.\u001b[39mfigure()\n\u001b[0;32m----> 3\u001b[0m \u001b[43mipv\u001b[49m\u001b[38;5;241;43m.\u001b[39;49m\u001b[43mscatter\u001b[49m\u001b[43m(\u001b[49m\u001b[43mpoints\u001b[49m\u001b[43m[\u001b[49m\u001b[43m:\u001b[49m\u001b[43m,\u001b[49m\u001b[43m \u001b[49m\u001b[38;5;241;43m0\u001b[39;49m\u001b[43m]\u001b[49m\u001b[43m,\u001b[49m\u001b[43m \u001b[49m\u001b[43mpoints\u001b[49m\u001b[43m[\u001b[49m\u001b[43m:\u001b[49m\u001b[43m,\u001b[49m\u001b[43m \u001b[49m\u001b[38;5;241;43m1\u001b[39;49m\u001b[43m]\u001b[49m\u001b[43m,\u001b[49m\u001b[43m \u001b[49m\u001b[43mpoints\u001b[49m\u001b[43m[\u001b[49m\u001b[43m:\u001b[49m\u001b[43m,\u001b[49m\u001b[43m \u001b[49m\u001b[38;5;241;43m2\u001b[39;49m\u001b[43m]\u001b[49m\u001b[43m,\u001b[49m\u001b[43m \u001b[49m\u001b[43mcolor\u001b[49m\u001b[38;5;241;43m=\u001b[39;49m\u001b[43mcolor\u001b[49m\u001b[43m,\u001b[49m\u001b[43m \u001b[49m\u001b[43msize\u001b[49m\u001b[38;5;241;43m=\u001b[39;49m\u001b[38;5;241;43m1\u001b[39;49m\u001b[43m,\u001b[49m\u001b[43m \u001b[49m\u001b[43mmarker\u001b[49m\u001b[38;5;241;43m=\u001b[39;49m\u001b[38;5;124;43m'\u001b[39;49m\u001b[38;5;124;43msphere\u001b[39;49m\u001b[38;5;124;43m'\u001b[39;49m\u001b[43m)\u001b[49m\n\u001b[1;32m      4\u001b[0m ipv\u001b[38;5;241m.\u001b[39mshow()\n",
      "File \u001b[0;32m~/miniforge3/envs/ASU/lib/python3.9/site-packages/ipyvolume/pylab.py:749\u001b[0m, in \u001b[0;36mscatter\u001b[0;34m(x, y, z, color, size, size_selected, color_selected, marker, selection, grow_limits, cast_shadow, receive_shadow, description, **kwargs)\u001b[0m\n\u001b[1;32m    733\u001b[0m s \u001b[38;5;241m=\u001b[39m ipv\u001b[38;5;241m.\u001b[39mScatter(\n\u001b[1;32m    734\u001b[0m     x\u001b[38;5;241m=\u001b[39mx,\n\u001b[1;32m    735\u001b[0m     y\u001b[38;5;241m=\u001b[39my,\n\u001b[0;32m   (...)\u001b[0m\n\u001b[1;32m    746\u001b[0m     \u001b[38;5;241m*\u001b[39m\u001b[38;5;241m*\u001b[39mkwargs\n\u001b[1;32m    747\u001b[0m )\n\u001b[1;32m    748\u001b[0m \u001b[38;5;28;01mif\u001b[39;00m grow_limits:\n\u001b[0;32m--> 749\u001b[0m     \u001b[43m_grow_limits\u001b[49m\u001b[43m(\u001b[49m\u001b[43ms\u001b[49m\u001b[38;5;241;43m.\u001b[39;49m\u001b[43mx\u001b[49m\u001b[43m,\u001b[49m\u001b[43m \u001b[49m\u001b[43ms\u001b[49m\u001b[38;5;241;43m.\u001b[39;49m\u001b[43my\u001b[49m\u001b[43m,\u001b[49m\u001b[43m \u001b[49m\u001b[43ms\u001b[49m\u001b[38;5;241;43m.\u001b[39;49m\u001b[43mz\u001b[49m\u001b[43m)\u001b[49m\n\u001b[1;32m    750\u001b[0m fig\u001b[38;5;241m.\u001b[39mscatters \u001b[38;5;241m=\u001b[39m fig\u001b[38;5;241m.\u001b[39mscatters \u001b[38;5;241m+\u001b[39m [s]\n\u001b[1;32m    751\u001b[0m \u001b[38;5;28;01mreturn\u001b[39;00m s\n",
      "File \u001b[0;32m~/miniforge3/envs/ASU/lib/python3.9/site-packages/ipyvolume/pylab.py:280\u001b[0m, in \u001b[0;36m_grow_limits\u001b[0;34m(x, y, z)\u001b[0m\n\u001b[1;32m    278\u001b[0m \u001b[38;5;28;01mdef\u001b[39;00m \u001b[38;5;21m_grow_limits\u001b[39m(x, y, z):\n\u001b[1;32m    279\u001b[0m     fig \u001b[38;5;241m=\u001b[39m gcf()\n\u001b[0;32m--> 280\u001b[0m     xlim(\u001b[38;5;241m*\u001b[39m\u001b[43m_grow_limit\u001b[49m\u001b[43m(\u001b[49m\u001b[43mfig\u001b[49m\u001b[38;5;241;43m.\u001b[39;49m\u001b[43mxlim\u001b[49m\u001b[43m,\u001b[49m\u001b[43m \u001b[49m\u001b[43mx\u001b[49m\u001b[43m)\u001b[49m)\n\u001b[1;32m    281\u001b[0m     ylim(\u001b[38;5;241m*\u001b[39m_grow_limit(fig\u001b[38;5;241m.\u001b[39mylim, y))\n\u001b[1;32m    282\u001b[0m     zlim(\u001b[38;5;241m*\u001b[39m_grow_limit(fig\u001b[38;5;241m.\u001b[39mzlim, z))\n",
      "File \u001b[0;32m~/miniforge3/envs/ASU/lib/python3.9/site-packages/ipyvolume/pylab.py:269\u001b[0m, in \u001b[0;36m_grow_limit\u001b[0;34m(limits, values)\u001b[0m\n\u001b[1;32m    267\u001b[0m     \u001b[38;5;28;01melse\u001b[39;00m:\n\u001b[1;32m    268\u001b[0m         finites \u001b[38;5;241m=\u001b[39m np\u001b[38;5;241m.\u001b[39misfinite(values)\n\u001b[0;32m--> 269\u001b[0m         newvmin \u001b[38;5;241m=\u001b[39m \u001b[43mnp\u001b[49m\u001b[38;5;241;43m.\u001b[39;49m\u001b[43mmin\u001b[49m\u001b[43m(\u001b[49m\u001b[43mvalues\u001b[49m\u001b[43m[\u001b[49m\u001b[43mfinites\u001b[49m\u001b[43m]\u001b[49m\u001b[43m)\u001b[49m\n\u001b[1;32m    270\u001b[0m         newvmax \u001b[38;5;241m=\u001b[39m np\u001b[38;5;241m.\u001b[39mmax(values[finites])\n\u001b[1;32m    271\u001b[0m \u001b[38;5;28;01mif\u001b[39;00m limits \u001b[38;5;129;01mis\u001b[39;00m \u001b[38;5;28;01mNone\u001b[39;00m:\n",
      "File \u001b[0;32m~/miniforge3/envs/ASU/lib/python3.9/site-packages/numpy/core/fromnumeric.py:2953\u001b[0m, in \u001b[0;36mmin\u001b[0;34m(a, axis, out, keepdims, initial, where)\u001b[0m\n\u001b[1;32m   2836\u001b[0m \u001b[38;5;129m@array_function_dispatch\u001b[39m(_min_dispatcher)\n\u001b[1;32m   2837\u001b[0m \u001b[38;5;28;01mdef\u001b[39;00m \u001b[38;5;21mmin\u001b[39m(a, axis\u001b[38;5;241m=\u001b[39m\u001b[38;5;28;01mNone\u001b[39;00m, out\u001b[38;5;241m=\u001b[39m\u001b[38;5;28;01mNone\u001b[39;00m, keepdims\u001b[38;5;241m=\u001b[39mnp\u001b[38;5;241m.\u001b[39m_NoValue, initial\u001b[38;5;241m=\u001b[39mnp\u001b[38;5;241m.\u001b[39m_NoValue,\n\u001b[1;32m   2838\u001b[0m         where\u001b[38;5;241m=\u001b[39mnp\u001b[38;5;241m.\u001b[39m_NoValue):\n\u001b[1;32m   2839\u001b[0m     \u001b[38;5;124;03m\"\"\"\u001b[39;00m\n\u001b[1;32m   2840\u001b[0m \u001b[38;5;124;03m    Return the minimum of an array or minimum along an axis.\u001b[39;00m\n\u001b[1;32m   2841\u001b[0m \n\u001b[0;32m   (...)\u001b[0m\n\u001b[1;32m   2951\u001b[0m \u001b[38;5;124;03m    6\u001b[39;00m\n\u001b[1;32m   2952\u001b[0m \u001b[38;5;124;03m    \"\"\"\u001b[39;00m\n\u001b[0;32m-> 2953\u001b[0m     \u001b[38;5;28;01mreturn\u001b[39;00m \u001b[43m_wrapreduction\u001b[49m\u001b[43m(\u001b[49m\u001b[43ma\u001b[49m\u001b[43m,\u001b[49m\u001b[43m \u001b[49m\u001b[43mnp\u001b[49m\u001b[38;5;241;43m.\u001b[39;49m\u001b[43mminimum\u001b[49m\u001b[43m,\u001b[49m\u001b[43m \u001b[49m\u001b[38;5;124;43m'\u001b[39;49m\u001b[38;5;124;43mmin\u001b[39;49m\u001b[38;5;124;43m'\u001b[39;49m\u001b[43m,\u001b[49m\u001b[43m \u001b[49m\u001b[43maxis\u001b[49m\u001b[43m,\u001b[49m\u001b[43m \u001b[49m\u001b[38;5;28;43;01mNone\u001b[39;49;00m\u001b[43m,\u001b[49m\u001b[43m \u001b[49m\u001b[43mout\u001b[49m\u001b[43m,\u001b[49m\n\u001b[1;32m   2954\u001b[0m \u001b[43m                          \u001b[49m\u001b[43mkeepdims\u001b[49m\u001b[38;5;241;43m=\u001b[39;49m\u001b[43mkeepdims\u001b[49m\u001b[43m,\u001b[49m\u001b[43m \u001b[49m\u001b[43minitial\u001b[49m\u001b[38;5;241;43m=\u001b[39;49m\u001b[43minitial\u001b[49m\u001b[43m,\u001b[49m\u001b[43m \u001b[49m\u001b[43mwhere\u001b[49m\u001b[38;5;241;43m=\u001b[39;49m\u001b[43mwhere\u001b[49m\u001b[43m)\u001b[49m\n",
      "File \u001b[0;32m~/miniforge3/envs/ASU/lib/python3.9/site-packages/numpy/core/fromnumeric.py:88\u001b[0m, in \u001b[0;36m_wrapreduction\u001b[0;34m(obj, ufunc, method, axis, dtype, out, **kwargs)\u001b[0m\n\u001b[1;32m     85\u001b[0m         \u001b[38;5;28;01melse\u001b[39;00m:\n\u001b[1;32m     86\u001b[0m             \u001b[38;5;28;01mreturn\u001b[39;00m reduction(axis\u001b[38;5;241m=\u001b[39maxis, out\u001b[38;5;241m=\u001b[39mout, \u001b[38;5;241m*\u001b[39m\u001b[38;5;241m*\u001b[39mpasskwargs)\n\u001b[0;32m---> 88\u001b[0m \u001b[38;5;28;01mreturn\u001b[39;00m \u001b[43mufunc\u001b[49m\u001b[38;5;241;43m.\u001b[39;49m\u001b[43mreduce\u001b[49m\u001b[43m(\u001b[49m\u001b[43mobj\u001b[49m\u001b[43m,\u001b[49m\u001b[43m \u001b[49m\u001b[43maxis\u001b[49m\u001b[43m,\u001b[49m\u001b[43m \u001b[49m\u001b[43mdtype\u001b[49m\u001b[43m,\u001b[49m\u001b[43m \u001b[49m\u001b[43mout\u001b[49m\u001b[43m,\u001b[49m\u001b[43m \u001b[49m\u001b[38;5;241;43m*\u001b[39;49m\u001b[38;5;241;43m*\u001b[39;49m\u001b[43mpasskwargs\u001b[49m\u001b[43m)\u001b[49m\n",
      "\u001b[0;31mValueError\u001b[0m: zero-size array to reduction operation minimum which has no identity"
     ]
    }
   ],
   "source": [
    "\n",
    "# # Use ipyvolume to create an interactive 3D scatter plot\n",
    "ipv.figure()\n",
    "ipv.scatter(points[:, 0], points[:, 1], points[:, 2], color=color, size=1, marker='sphere')\n",
    "ipv.show()"
   ]
  },
  {
   "cell_type": "code",
   "execution_count": null,
   "metadata": {},
   "outputs": [],
   "source": []
  },
  {
   "cell_type": "code",
   "execution_count": null,
   "metadata": {},
   "outputs": [],
   "source": []
  },
  {
   "cell_type": "code",
   "execution_count": null,
   "metadata": {},
   "outputs": [],
   "source": []
  },
  {
   "cell_type": "code",
   "execution_count": null,
   "metadata": {},
   "outputs": [],
   "source": []
  }
 ],
 "metadata": {
  "kernelspec": {
   "display_name": "ASU",
   "language": "python",
   "name": "python3"
  },
  "language_info": {
   "codemirror_mode": {
    "name": "ipython",
    "version": 3
   },
   "file_extension": ".py",
   "mimetype": "text/x-python",
   "name": "python",
   "nbconvert_exporter": "python",
   "pygments_lexer": "ipython3",
   "version": "3.9.13"
  }
 },
 "nbformat": 4,
 "nbformat_minor": 2
}
